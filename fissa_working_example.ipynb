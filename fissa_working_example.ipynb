{
 "cells": [
  {
   "cell_type": "markdown",
   "id": "3c80e0da",
   "metadata": {},
   "source": [
    "Within `animalDataPath`, must have folder 'NoRMCorred' with motion corrected .tif files"
   ]
  },
  {
   "cell_type": "code",
   "execution_count": 1,
   "id": "fedc0897",
   "metadata": {},
   "outputs": [],
   "source": [
    "import os\n",
    "from scipy.io import loadmat\n",
    "import numpy as np\n",
    "import fissa\n",
    "import re\n",
    "import glob"
   ]
  },
  {
   "cell_type": "code",
   "execution_count": 3,
   "id": "f582c2cc",
   "metadata": {},
   "outputs": [],
   "source": [
    "animalDataPath = r'C:\\Data\\Manoj Data\\Region01'"
   ]
  },
  {
   "cell_type": "code",
   "execution_count": null,
   "id": "dbfbb495",
   "metadata": {},
   "outputs": [],
   "source": [
    "os.chdir(animalDataPath)\n",
    "try:\n",
    "    anml = re.search(r'[A-Z]{2}\\d{4}',animalDataPath)[0]\n",
    "except:\n",
    "    anml = \"test\"\n",
    "tiff_folder = os.path.join(animalDataPath,'NoRMCorred')\n",
    "if not os.path.isdir(tiff_folder):\n",
    "    os.mkdir(tiff_folder)\n",
    "\n",
    "output_folder = os.path.join(tiff_folder,'FISSAoutput')\n",
    "if not os.path.isdir(output_folder):\n",
    "    os.mkdir(output_folder)"
   ]
  },
  {
   "cell_type": "code",
   "execution_count": 5,
   "id": "ee7515c1",
   "metadata": {},
   "outputs": [],
   "source": [
    "ROIcoor, nTif, rois_FISSA = [[] for _ in range(3)]\n",
    "#[::-1] reverses list so pre comes before post\n",
    "for fileN,ROIfile in enumerate(glob.glob(animalDataPath + '\\\\*_moCorrROI_*.mat')[::-1]):\n",
    "    ROIcoor.append(loadmat(ROIfile)['moCorROI']['ROIcurveOrderedXY'].transpose())\n",
    "    nTif.append(loadmat(ROIfile)['nTifs'][0][0])\n",
    "    rois_FISSA.extend([[[ROIcoor[fileN][i,0][0],\\\n",
    "                        ROIcoor[fileN][i,0][1]] for i in range(ROIcoor[fileN].shape[0])]]*nTif[fileN])"
   ]
  },
  {
   "cell_type": "code",
   "execution_count": 6,
   "id": "c450b057",
   "metadata": {},
   "outputs": [],
   "source": [
    "#This checks whether ROI files all have the same number of ROI:\n",
    "#this works for however long ROIcorr is:\n",
    "if not all([coor.shape[0] is ROIcoor[0].shape[0] for coor in ROIcoor]):\n",
    "    raise NameError('Different number of ROI in some set')"
   ]
  },
  {
   "cell_type": "code",
   "execution_count": 7,
   "id": "dd655a71",
   "metadata": {},
   "outputs": [
    {
     "name": "stderr",
     "output_type": "stream",
     "text": [
      "c:\\Codes\\fissa_process\\env_fissa_conda_min\\lib\\site-packages\\numpy\\core\\_asarray.py:136: VisibleDeprecationWarning: Creating an ndarray from ragged nested sequences (which is a list-or-tuple of lists-or-tuples-or ndarrays with different lengths or shapes) is deprecated. If you meant to do this, you must specify 'dtype=object' when creating the ndarray\n",
      "  return array(a, dtype, copy=False, order=order, subok=True)\n"
     ]
    }
   ],
   "source": [
    "#save ROIs in python format | can write code to split using nTif variable\n",
    "#rois_FISSA is a list of ROIs of length number of tifs\n",
    "np.save(os.path.join(tiff_folder,'FISSA_ROIs.npy'),rois_FISSA)"
   ]
  },
  {
   "cell_type": "code",
   "execution_count": null,
   "id": "fb243036",
   "metadata": {},
   "outputs": [
    {
     "name": "stdout",
     "output_type": "stream",
     "text": [
      "10\n",
      "74\n",
      "2\n",
      "40\n",
      "40\n"
     ]
    }
   ],
   "source": [
    "print(len(rois_FISSA))\n",
    "print(len(rois_FISSA[0]))\n",
    "print(len(rois_FISSA[0][0]))\n",
    "print(len(rois_FISSA[0][0][0]))\n",
    "print(len(rois_FISSA[0][0][1]))\n",
    "\n",
    "for el in rois_FISSA:\n",
    "    print('\\n')\n",
    "    print(len(el))\n",
    "    print(len(el[0]))\n",
    "    print(len(el[0][0]))\n",
    "    print(len(el[0][1]))"
   ]
  },
  {
   "cell_type": "code",
   "execution_count": 10,
   "id": "20bc1110",
   "metadata": {},
   "outputs": [],
   "source": [
    "exp = fissa.Experiment(tiff_folder,rois_FISSA,output_folder)"
   ]
  },
  {
   "cell_type": "code",
   "execution_count": 11,
   "id": "47834254",
   "metadata": {},
   "outputs": [
    {
     "name": "stdout",
     "output_type": "stream",
     "text": [
      "Doing region growing and data extraction....\n",
      "Doing signal separation....\n",
      "DONE!\n"
     ]
    }
   ],
   "source": [
    "#run FISSA\n",
    "exp.separate(redo_prep=True)\n",
    "\n",
    "#save FISSA output to matlab format\n",
    "os.chdir(output_folder)\n",
    "# exp.save_to_matlab()\n",
    "print('DONE!')"
   ]
  }
 ],
 "metadata": {
  "kernelspec": {
   "display_name": "env_fissa",
   "language": "python",
   "name": "python3"
  },
  "language_info": {
   "codemirror_mode": {
    "name": "ipython",
    "version": 3
   },
   "file_extension": ".py",
   "mimetype": "text/x-python",
   "name": "python",
   "nbconvert_exporter": "python",
   "pygments_lexer": "ipython3",
   "version": "3.8.10"
  }
 },
 "nbformat": 4,
 "nbformat_minor": 5
}
